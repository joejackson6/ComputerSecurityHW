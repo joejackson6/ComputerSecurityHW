{
  "nbformat": 4,
  "nbformat_minor": 0,
  "metadata": {
    "colab": {
      "provenance": [],
      "gpuType": "T4",
      "mount_file_id": "12EUzt4dr_vdvUaE8G3IB2NcaC5m5IkMy",
      "authorship_tag": "ABX9TyPawjbQOAZcKiul+4xeizb/",
      "include_colab_link": true
    },
    "kernelspec": {
      "name": "python3",
      "display_name": "Python 3"
    },
    "language_info": {
      "name": "python"
    },
    "accelerator": "GPU"
  },
  "cells": [
    {
      "cell_type": "markdown",
      "metadata": {
        "id": "view-in-github",
        "colab_type": "text"
      },
      "source": [
        "<a href=\"https://colab.research.google.com/github/joejackson6/ComputerSecurityHW/blob/main/Project/Milestone2/Progress_Check_2.ipynb\" target=\"_parent\"><img src=\"https://colab.research.google.com/assets/colab-badge.svg\" alt=\"Open In Colab\"/></a>"
      ]
    },
    {
      "cell_type": "markdown",
      "source": [
        "Initial progress on the NBA Project"
      ],
      "metadata": {
        "id": "7iy_XVvFz8P8"
      }
    },
    {
      "cell_type": "code",
      "source": [
        "# Mount to Drive\n",
        "from google.colab import drive\n",
        "drive.mount('/content/drive')"
      ],
      "metadata": {
        "colab": {
          "base_uri": "https://localhost:8080/"
        },
        "id": "5wAagjs12NYf",
        "outputId": "43659266-5ab6-4a33-fb97-88178e86bc67"
      },
      "execution_count": null,
      "outputs": [
        {
          "output_type": "stream",
          "name": "stdout",
          "text": [
            "Drive already mounted at /content/drive; to attempt to forcibly remount, call drive.mount(\"/content/drive\", force_remount=True).\n"
          ]
        }
      ]
    },
    {
      "cell_type": "code",
      "source": [
        "# Imports\n",
        "import pandas as pd\n",
        "import numpy as np\n",
        "import matplotlib.pyplot as plt\n",
        "import seaborn as sns\n",
        "import torch\n",
        "import torch.nn as nn\n",
        "import torch.optim as optim\n",
        "from torch.utils.data import Dataset, DataLoader\n",
        "from sklearn.preprocessing import StandardScaler\n",
        "from sklearn.model_selection import train_test_split"
      ],
      "metadata": {
        "id": "TqcipLfz0N5S"
      },
      "execution_count": null,
      "outputs": []
    },
    {
      "cell_type": "code",
      "source": [
        "# Get Data\n",
        "path_to_games = \"/content/drive/MyDrive/Neural Networks/Progress Check 2/games.csv\"\n",
        "path_to_game_details = \"/content/drive/MyDrive/Neural Networks/Progress Check 2/games_details.csv\"\n",
        "path_to_players = \"/content/drive/MyDrive/Neural Networks/Progress Check 2/players.csv\"\n",
        "path_to_ranking = \"/content/drive/MyDrive/Neural Networks/Progress Check 2/ranking.csv\"\n",
        "\n",
        "# Get the data from the files\n",
        "games = pd.read_csv(path_to_games)\n",
        "game_details = pd.read_csv(path_to_game_details)\n",
        "players = pd.read_csv(path_to_players)\n",
        "ranking = pd.read_csv(path_to_ranking)"
      ],
      "metadata": {
        "colab": {
          "base_uri": "https://localhost:8080/"
        },
        "id": "wnFu7JIF2lBc",
        "outputId": "17e26643-af2f-46bb-c453-d940e8bdfef2"
      },
      "execution_count": null,
      "outputs": [
        {
          "output_type": "stream",
          "name": "stderr",
          "text": [
            "<ipython-input-4-76cb0dddc7e9>:9: DtypeWarning: Columns (6) have mixed types. Specify dtype option on import or set low_memory=False.\n",
            "  game_details = pd.read_csv(path_to_game_details)\n"
          ]
        }
      ]
    },
    {
      "cell_type": "markdown",
      "source": [
        "For this part of the project I am going to try and simplify to predict games exclusively for the year 2018/2019 to explore different ideas and see what might work better."
      ],
      "metadata": {
        "id": "FcjTd-Cx3OMs"
      }
    },
    {
      "cell_type": "code",
      "source": [
        "# Process data to only include games from 2018/2019 season\n",
        "games_2018 = games[games['SEASON'] == 2018]\n",
        "#print(games2018)\n",
        "game_details_2018 = game_details[game_details['GAME_ID'].isin(games_2018['GAME_ID'])]\n",
        "#print(game_details2018)\n",
        "ranking_2018 = ranking[ranking['SEASON_ID'] == 22018]\n",
        "#print(ranking_2018)\n",
        "\n",
        "# Print the columns for all of the data (using to merge data)\n",
        "#print(\"games columns\", games.columns)\n",
        "#print(\"game_details columns\", game_details.columns)\n",
        "#print(\"ranking columns\", ranking.columns)"
      ],
      "metadata": {
        "id": "CIQJQ1dl3Zjz"
      },
      "execution_count": null,
      "outputs": []
    },
    {
      "cell_type": "code",
      "source": [
        "games_2018 = games_2018.drop(columns=['GAME_STATUS_TEXT', 'SEASON'], errors='ignore')\n",
        "ranking_2018 = ranking_2018.drop(columns=['LEAGUE_ID', 'SEASON_ID', 'STANDINGSDATE', 'CONFERENCE', 'TEAM', 'G', 'W', 'L', 'RETURNTOPLAY'], errors='ignore')\n",
        "\n",
        "ranking_2018 = ranking_2018.sort_values(by=['TEAM_ID'], ascending=True).drop_duplicates(subset=['TEAM_ID'], keep='last')\n",
        "ranking_dict = ranking_2018.set_index('TEAM_ID').to_dict(orient='index')\n",
        "\n",
        "game_details_2018 = game_details_2018[['GAME_ID', 'TEAM_ID', 'PTS', 'AST', 'REB', 'STL', 'BLK', 'TO', 'FG_PCT', 'FG3_PCT', 'FT_PCT']]\n",
        "game_details_agg_2018 = game_details_2018.groupby(['GAME_ID', 'TEAM_ID']).agg({\n",
        "    'PTS': 'sum', 'AST': 'sum', 'REB': 'sum', 'STL': 'sum',\n",
        "    'BLK': 'sum', 'TO': 'sum', 'FG_PCT': 'mean', 'FG3_PCT': 'mean', 'FT_PCT': 'mean'\n",
        "}).to_dict(orient='index')\n",
        "\n",
        "processed_data = []\n",
        "\n",
        "for _, row in games_2018.iterrows():\n",
        "    game_id = row['GAME_ID']\n",
        "    home_team = row['TEAM_ID_home']\n",
        "    away_team = row['TEAM_ID_away']\n",
        "\n",
        "    home_ranking = ranking_dict.get(home_team, {})\n",
        "    away_ranking = ranking_dict.get(away_team, {})\n",
        "\n",
        "    home_stats = game_details_agg_2018.get((game_id, home_team), {})\n",
        "    away_stats = game_details_agg_2018.get((game_id, away_team), {})\n",
        "\n",
        "    combined_row = {\n",
        "        **row.to_dict(),\n",
        "        **{f\"{k}_home\": v for k, v in home_ranking.items()},\n",
        "        **{f\"{k}_away\": v for k, v in away_ranking.items()},\n",
        "        **{f\"{k}_home\": v for k, v in home_stats.items()},\n",
        "        **{f\"{k}_away\": v for k, v in away_stats.items()}\n",
        "    }\n",
        "\n",
        "    processed_data.append(combined_row)\n",
        "\n",
        "games_final = pd.DataFrame(processed_data)\n",
        "print(games_final)\n",
        "\n"
      ],
      "metadata": {
        "colab": {
          "base_uri": "https://localhost:8080/"
        },
        "id": "3ThauujK9YQz",
        "outputId": "31346340-a773-4b3f-b21b-dd623ba1781e"
      },
      "execution_count": null,
      "outputs": [
        {
          "output_type": "stream",
          "name": "stdout",
          "text": [
            "     GAME_DATE_EST   GAME_ID  HOME_TEAM_ID  VISITOR_TEAM_ID  TEAM_ID_home  \\\n",
            "0       2019-06-13  41800406    1610612744       1610612761    1610612744   \n",
            "1       2019-06-10  41800405    1610612761       1610612744    1610612761   \n",
            "2       2019-06-07  41800404    1610612744       1610612761    1610612744   \n",
            "3       2019-06-05  41800403    1610612744       1610612761    1610612744   \n",
            "4       2019-06-02  41800402    1610612761       1610612744    1610612761   \n",
            "...            ...       ...           ...              ...           ...   \n",
            "1373    2018-09-30  11800009    1610612741       1610612740    1610612741   \n",
            "1374    2018-09-30  11800010    1610612747       1610612743    1610612747   \n",
            "1375    2018-09-29  11800003    1610612761       1610612757    1610612761   \n",
            "1376    2018-09-29  11800005    1610612744       1610612750    1610612744   \n",
            "1377    2018-09-28  11800002    1610612766       1610612738    1610612766   \n",
            "\n",
            "      PTS_home  FG_PCT_home  FT_PCT_home  FG3_PCT_home  AST_home  ...  \\\n",
            "0        110.0     0.356909     0.251909      0.153636      28.0  ...   \n",
            "1        105.0     0.420222     0.439778      0.180000      19.0  ...   \n",
            "2         92.0     0.372900     0.337500      0.082200      26.0  ...   \n",
            "3        109.0     0.365417     0.487167      0.146750      25.0  ...   \n",
            "4        104.0     0.378375     0.520875      0.329250      17.0  ...   \n",
            "...        ...          ...          ...           ...       ...  ...   \n",
            "1373     128.0     0.455833     0.625000      0.127750      23.0  ...   \n",
            "1374     107.0     0.425937     0.364563      0.252063      26.0  ...   \n",
            "1375     122.0     0.374059     0.450118      0.266706      15.0  ...   \n",
            "1376     110.0     0.430118     0.323529      0.139588      33.0  ...   \n",
            "1377     104.0     0.353083     0.452083      0.268000      17.0  ...   \n",
            "\n",
            "      ROAD_RECORD_home  W_PCT_away  HOME_RECORD_away  ROAD_RECORD_away  \\\n",
            "0                27-14       1.000               4-0               1-0   \n",
            "1                  1-0       0.695             30-11             27-14   \n",
            "2                27-14       1.000               4-0               1-0   \n",
            "3                27-14       1.000               4-0               1-0   \n",
            "4                  1-0       0.695             30-11             27-14   \n",
            "...                ...         ...               ...               ...   \n",
            "1373               0-1       0.477              15-6              6-17   \n",
            "1374             15-26       0.900               6-0               3-1   \n",
            "1375               1-0       0.646              32-9             21-20   \n",
            "1376             27-14       0.439             25-16             11-30   \n",
            "1377               2-0       0.667               1-0               1-1   \n",
            "\n",
            "      STL_home  BLK_home  TO_home  STL_away  BLK_away  TO_away  \n",
            "0          9.0       6.0     16.0       8.0       2.0     12.0  \n",
            "1          6.0       5.0     13.0       5.0       7.0     15.0  \n",
            "2          6.0       6.0     17.0      12.0       4.0      9.0  \n",
            "3          8.0       3.0     14.0       9.0      10.0     14.0  \n",
            "4          8.0       2.0     15.0       7.0       5.0     15.0  \n",
            "...        ...       ...      ...       ...       ...      ...  \n",
            "1373       8.0       4.0     11.0       5.0       7.0     18.0  \n",
            "1374       9.0       7.0     21.0      11.0       5.0     21.0  \n",
            "1375       8.0       6.0     15.0       4.0       2.0     24.0  \n",
            "1376       9.0       8.0     17.0      11.0       6.0     15.0  \n",
            "1377       4.0       7.0     17.0       9.0       7.0     12.0  \n",
            "\n",
            "[1378 rows x 31 columns]\n"
          ]
        }
      ]
    },
    {
      "cell_type": "code",
      "source": [
        "# Create Teams dict\n",
        "games_2018 = games[games['SEASON'] == 2018]\n",
        "game_details_2018 = game_details[game_details['GAME_ID'].isin(games_2018['GAME_ID'])]\n",
        "ranking_2018 = ranking[ranking['SEASON_ID'] == 22018]\n",
        "\n",
        "\n",
        "games_2018 = games_2018.drop(columns=['GAME_STATUS_TEXT', 'SEASON'], errors='ignore')\n",
        "\n",
        "ranking_2018 = ranking_2018.drop(columns=['LEAGUE_ID', 'SEASON_ID', 'STANDINGSDATE', 'CONFERENCE', 'TEAM', 'G', 'W', 'L', 'RETURNTOPLAY'], errors='ignore')\n",
        "\n",
        "ranking_2018 = ranking_2018.sort_values(by=['TEAM_ID'], ascending=True).drop_duplicates(subset=['TEAM_ID'], keep='last')\n",
        "ranking_dict = ranking_2018.set_index('TEAM_ID').to_dict(orient='index')\n",
        "\n",
        "game_details_2018 = game_details_2018[['GAME_ID', 'TEAM_ID', 'PLAYER_ID', 'PLAYER_NAME', 'PTS', 'AST', 'REB', 'STL', 'BLK', 'TO', 'FG_PCT', 'FG3_PCT', 'FT_PCT']]\n",
        "\n",
        "team_games_dict = {}\n",
        "\n",
        "for _, row in game_details_2018.iterrows():\n",
        "    game_id = row['GAME_ID']\n",
        "    team_id = row['TEAM_ID']\n",
        "\n",
        "    player_stats = {\n",
        "        'GAME_ID': game_id,\n",
        "        'PLAYER_ID': row['PLAYER_ID'],\n",
        "        'PLAYER_NAME': row['PLAYER_NAME'],\n",
        "        'PTS': row['PTS'],\n",
        "        'AST': row['AST'],\n",
        "        'REB': row['REB'],\n",
        "        'STL': row['STL'],\n",
        "        'BLK': row['BLK'],\n",
        "        'TO': row['TO'],\n",
        "        'FG_PCT': row['FG_PCT'],\n",
        "        'FG3_PCT': row['FG3_PCT'],\n",
        "        'FT_PCT': row['FT_PCT']\n",
        "    }\n",
        "\n",
        "    if team_id not in team_games_dict:\n",
        "        team_games_dict[team_id] = []\n",
        "\n",
        "    team_games_dict[team_id].append(player_stats)\n",
        "\n",
        "# Checking to see if output is correct\n",
        "#for team in team_games_dict:\n",
        " ##  for player_stats in team_games_dict[team]:\n",
        "   #     print(player_stats)\n"
      ],
      "metadata": {
        "id": "4T15DYn3ENyA"
      },
      "execution_count": null,
      "outputs": []
    },
    {
      "cell_type": "code",
      "source": [
        "# Data normalization and pre-processing (Make sure to handle NaNs)\n",
        "N_GAMES = 10 # Hyperparameter that could be explored\n",
        "stats_columns = ['PTS', 'AST', 'REB', 'STL', 'BLK', 'TO', 'FG_PCT', 'FG3_PCT', 'FT_PCT']\n",
        "feature_rows = []\n",
        "\n",
        "for _, game in games_2018.iterrows():\n",
        "    game_id = game['GAME_ID']\n",
        "    home_team = game['TEAM_ID_home']\n",
        "    away_team = game['TEAM_ID_away']\n",
        "\n",
        "    home_games = [g for g in team_games_dict.get(home_team, []) if g['GAME_ID'] < game_id][-N_GAMES:]\n",
        "    away_games = [g for g in team_games_dict.get(away_team, []) if g['GAME_ID'] < game_id][-N_GAMES:]\n",
        "\n",
        "    def rolling_avg(games, stat):\n",
        "        values = [g[stat] for g in games if not pd.isna(g[stat])]\n",
        "        return np.mean(values) if values else 0\n",
        "\n",
        "    home_features = {f\"{stat}_home_avg\": rolling_avg(home_games, stat) for stat in stats_columns}\n",
        "    away_features = {f\"{stat}_away_avg\": rolling_avg(away_games, stat) for stat in stats_columns}\n",
        "\n",
        "    home_win_pct = np.mean([1 if g['PTS'] > g['PTS'] else 0 for g in home_games]) if home_games else 0.5 # Neutral assumption\n",
        "    away_win_pct = np.mean([1 if g['PTS'] > g['PTS'] else 0 for g in away_games]) if away_games else 0.5\n",
        "\n",
        "    row = {\n",
        "        \"GAME_ID\": game_id,\n",
        "        \"HOME_TEAM_ID\": home_team,\n",
        "        \"AWAY_TEAM_ID\": away_team,\n",
        "        \"HOME_WIN\": game[\"HOME_TEAM_WINS\"],\n",
        "        \"HOME_WIN_PCT\": home_win_pct,\n",
        "        \"AWAY_WIN_PCT\": away_win_pct,\n",
        "        **home_features,\n",
        "        **away_features,\n",
        "    }\n",
        "\n",
        "    feature_rows.append(row)\n",
        "\n",
        "features_df = pd.DataFrame(feature_rows)\n",
        "\n",
        "# Final NaN cleanup\n",
        "features_df.fillna(0, inplace=True)\n",
        "print(features_df)\n",
        "\n",
        "# Save for later\n",
        "features_df.to_csv(\"nba_model_features.csv\", index=False)\n"
      ],
      "metadata": {
        "colab": {
          "base_uri": "https://localhost:8080/"
        },
        "id": "iA7nFWg_GaxV",
        "outputId": "645fe165-0066-4ceb-f8d7-8257bc7a0ea4"
      },
      "execution_count": null,
      "outputs": [
        {
          "output_type": "stream",
          "name": "stdout",
          "text": [
            "       GAME_ID  HOME_TEAM_ID  AWAY_TEAM_ID  HOME_WIN  HOME_WIN_PCT  \\\n",
            "0     41800406    1610612744    1610612761         0           0.0   \n",
            "1     41800405    1610612761    1610612744         0           0.0   \n",
            "2     41800404    1610612744    1610612761         0           0.0   \n",
            "3     41800403    1610612744    1610612761         0           0.0   \n",
            "4     41800402    1610612761    1610612744         0           0.0   \n",
            "...        ...           ...           ...       ...           ...   \n",
            "1373  11800009    1610612741    1610612740         1           0.5   \n",
            "1374  11800010    1610612747    1610612743         0           0.5   \n",
            "1375  11800003    1610612761    1610612757         1           0.5   \n",
            "1376  11800005    1610612744    1610612750         0           0.5   \n",
            "1377  11800002    1610612766    1610612738         1           0.5   \n",
            "\n",
            "      AWAY_WIN_PCT  PTS_home_avg  AST_home_avg  REB_home_avg  STL_home_avg  \\\n",
            "0              0.0           3.7         1.200          2.70         0.500   \n",
            "1              0.0           4.5         0.375          1.25         0.375   \n",
            "2              0.0           3.7         1.200          2.70         0.500   \n",
            "3              0.0           3.7         1.200          2.70         0.500   \n",
            "4              0.0           4.5         0.375          1.25         0.375   \n",
            "...            ...           ...           ...           ...           ...   \n",
            "1373           0.5           0.0         0.000          0.00         0.000   \n",
            "1374           0.5           0.0         0.000          0.00         0.000   \n",
            "1375           0.5           0.0         0.000          0.00         0.000   \n",
            "1376           0.5           0.0         0.000          0.00         0.000   \n",
            "1377           0.5           0.0         0.000          0.00         0.000   \n",
            "\n",
            "      ...  FT_PCT_home_avg  PTS_away_avg  AST_away_avg  REB_away_avg  \\\n",
            "0     ...         0.200000           4.5         0.375          1.25   \n",
            "1     ...         0.294625           3.7         1.200          2.70   \n",
            "2     ...         0.200000           4.5         0.375          1.25   \n",
            "3     ...         0.200000           4.5         0.375          1.25   \n",
            "4     ...         0.294625           3.7         1.200          2.70   \n",
            "...   ...              ...           ...           ...           ...   \n",
            "1373  ...         0.000000           0.0         0.000          0.00   \n",
            "1374  ...         0.000000           0.0         0.000          0.00   \n",
            "1375  ...         0.000000           0.0         0.000          0.00   \n",
            "1376  ...         0.000000           0.0         0.000          0.00   \n",
            "1377  ...         0.000000           0.0         0.000          0.00   \n",
            "\n",
            "      STL_away_avg  BLK_away_avg  TO_away_avg  FG_PCT_away_avg  \\\n",
            "0            0.375           0.5          0.5         0.322875   \n",
            "1            0.500           0.4          0.9         0.297100   \n",
            "2            0.375           0.5          0.5         0.322875   \n",
            "3            0.375           0.5          0.5         0.322875   \n",
            "4            0.500           0.4          0.9         0.297100   \n",
            "...            ...           ...          ...              ...   \n",
            "1373         0.000           0.0          0.0         0.000000   \n",
            "1374         0.000           0.0          0.0         0.000000   \n",
            "1375         0.000           0.0          0.0         0.000000   \n",
            "1376         0.000           0.0          0.0         0.000000   \n",
            "1377         0.000           0.0          0.0         0.000000   \n",
            "\n",
            "      FG3_PCT_away_avg  FT_PCT_away_avg  \n",
            "0                 0.25         0.294625  \n",
            "1                 0.04         0.200000  \n",
            "2                 0.25         0.294625  \n",
            "3                 0.25         0.294625  \n",
            "4                 0.04         0.200000  \n",
            "...                ...              ...  \n",
            "1373              0.00         0.000000  \n",
            "1374              0.00         0.000000  \n",
            "1375              0.00         0.000000  \n",
            "1376              0.00         0.000000  \n",
            "1377              0.00         0.000000  \n",
            "\n",
            "[1378 rows x 24 columns]\n"
          ]
        }
      ]
    },
    {
      "cell_type": "code",
      "source": [
        "# Process Data and split it into sections\n",
        "\n",
        "df = pd.read_csv(\"nba_model_features.csv\")\n",
        "\n",
        "# Define static and sequential feature columns\n",
        "static_features = ['HOME_WIN_PCT', 'AWAY_WIN_PCT']\n",
        "seq_features = ['PTS', 'AST', 'REB', 'STL', 'BLK', 'TO', 'FG_PCT', 'FG3_PCT', 'FT_PCT']\n",
        "N_GAMES = 10\n",
        "\n",
        "# Normalize static features\n",
        "scaler = StandardScaler()\n",
        "df[static_features] = scaler.fit_transform(df[static_features])\n",
        "\n",
        "# Prepare sequences\n",
        "team_games = {}\n",
        "sequences = []\n",
        "targets = []\n",
        "\n",
        "for _, row in df.iterrows():\n",
        "    game_id = row['GAME_ID']\n",
        "    home_team = row['HOME_TEAM_ID']\n",
        "    away_team = row['AWAY_TEAM_ID']\n",
        "    home_win = row['HOME_WIN']\n",
        "\n",
        "    home_games = team_games.get(home_team, [])[-N_GAMES:]\n",
        "    away_games = team_games.get(away_team, [])[-N_GAMES:]\n",
        "\n",
        "    while len(home_games) < N_GAMES:\n",
        "        home_games.insert(0, np.zeros(len(seq_features)))\n",
        "\n",
        "    while len(away_games) < N_GAMES:\n",
        "        away_games.insert(0, np.zeros(len(seq_features)))\n",
        "\n",
        "    home_games = np.array(home_games)\n",
        "    away_games = np.array(away_games)\n",
        "\n",
        "    sequences.append((torch.tensor(home_games, dtype=torch.float32), torch.tensor(away_games, dtype=torch.float32), torch.tensor(row[static_features].values, dtype=torch.float32)))\n",
        "    targets.append(home_win)\n",
        "\n",
        "    home_game_stats = row[[f\"{stat}_home_avg\" for stat in seq_features]].values\n",
        "    away_game_stats = row[[f\"{stat}_away_avg\" for stat in seq_features]].values\n",
        "    team_games.setdefault(home_team, []).append(home_game_stats)\n",
        "    team_games.setdefault(away_team, []).append(away_game_stats)\n",
        "\n",
        "sequences = [(torch.tensor(h, dtype=torch.float32), torch.tensor(a, dtype=torch.float32), torch.tensor(s, dtype=torch.float32)) for h, a, s in sequences]\n",
        "targets = torch.tensor(targets, dtype=torch.float32)\n",
        "\n",
        "train_data, test_data, train_labels, test_labels = train_test_split(sequences, targets, test_size=0.2, random_state=42)"
      ],
      "metadata": {
        "colab": {
          "base_uri": "https://localhost:8080/"
        },
        "id": "SFrEQABMJSK2",
        "outputId": "bb0478e0-6226-4460-ee95-a4106594afd2"
      },
      "execution_count": null,
      "outputs": [
        {
          "output_type": "stream",
          "name": "stderr",
          "text": [
            "<ipython-input-8-0c5c840a6512>:45: UserWarning: To copy construct from a tensor, it is recommended to use sourceTensor.clone().detach() or sourceTensor.clone().detach().requires_grad_(True), rather than torch.tensor(sourceTensor).\n",
            "  sequences = [(torch.tensor(h, dtype=torch.float32), torch.tensor(a, dtype=torch.float32), torch.tensor(s, dtype=torch.float32)) for h, a, s in sequences]\n"
          ]
        }
      ]
    },
    {
      "cell_type": "code",
      "source": [
        "class NBA_Dataset(Dataset): # Works better with Dataloader\n",
        "    def __init__(self, data, labels):\n",
        "        self.data = data\n",
        "        self.labels = labels\n",
        "\n",
        "    def __len__(self):\n",
        "        return len(self.data)\n",
        "\n",
        "    def __getitem__(self, idx):\n",
        "        home_seq, away_seq, static_feats = self.data[idx]\n",
        "        return home_seq, away_seq, static_feats, self.labels[idx]\n",
        "\n",
        "batch_size = 32\n",
        "train_dataset = NBA_Dataset(train_data, train_labels)\n",
        "test_dataset = NBA_Dataset(test_data, test_labels)\n",
        "\n",
        "train_loader = DataLoader(train_dataset, batch_size=batch_size, shuffle=True)\n",
        "test_loader = DataLoader(test_dataset, batch_size=batch_size, shuffle=False)\n",
        "\n",
        "\n",
        "# Hybrid model recommended online -> need to do more research on LSTM and how to choose parameters\n",
        "class NBAHybridModel(nn.Module):\n",
        "    def __init__(self, input_size, static_size, hidden_size, num_layers):\n",
        "        super(NBAHybridModel, self).__init__()\n",
        "        self.lstm_home = nn.LSTM(input_size, hidden_size, num_layers, batch_first=True)\n",
        "        self.lstm_away = nn.LSTM(input_size, hidden_size, num_layers, batch_first=True)\n",
        "\n",
        "        self.fc_static = nn.Linear(static_size, hidden_size)\n",
        "        self.fc_combined = nn.Linear(hidden_size * 3, 64)\n",
        "        self.fc_output = nn.Linear(64, 1)\n",
        "        self.relu = nn.ReLU()\n",
        "        self.sigmoid = nn.Sigmoid()\n",
        "\n",
        "    def forward(self, home_seq, away_seq, static_feats):\n",
        "        _, (home_hidden, _) = self.lstm_home(home_seq)\n",
        "        _, (away_hidden, _) = self.lstm_away(away_seq)\n",
        "\n",
        "        static_out = self.fc_static(static_feats)\n",
        "        static_out = self.relu(static_out)\n",
        "\n",
        "        combined = torch.cat((home_hidden[-1], away_hidden[-1], static_out), dim=1)\n",
        "        x = self.relu(self.fc_combined(combined))\n",
        "        x = self.fc_output(x)\n",
        "        return self.sigmoid(x)\n"
      ],
      "metadata": {
        "id": "7gPn3vwQYhD-"
      },
      "execution_count": null,
      "outputs": []
    },
    {
      "cell_type": "code",
      "source": [
        "input_size = len(seq_features)\n",
        "static_size = len(static_features)\n",
        "hidden_size = 32\n",
        "num_layers = 2\n",
        "\n",
        "model = NBAHybridModel(input_size, static_size, hidden_size, num_layers)\n",
        "criterion = nn.BCELoss()\n",
        "optimizer = optim.Adam(model.parameters(), lr=0.001)\n",
        "\n",
        "device = torch.device(\"cuda\" if torch.cuda.is_available() else \"cpu\")\n",
        "model.to(device)\n",
        "\n",
        "epochs = 1000\n",
        "loss_history = []\n",
        "train_acc_history = []\n",
        "\n",
        "for epoch in range(epochs):\n",
        "    model.train()\n",
        "    total_loss = 0\n",
        "    correct_train = 0\n",
        "    total_train = 0\n",
        "\n",
        "    for home_seq, away_seq, static_feats, labels in train_loader:\n",
        "        home_seq, away_seq, static_feats, labels = home_seq.to(device), away_seq.to(device), static_feats.to(device), labels.to(device)\n",
        "\n",
        "        optimizer.zero_grad()\n",
        "        outputs = model(home_seq, away_seq, static_feats).squeeze()\n",
        "        loss = criterion(outputs, labels)\n",
        "        loss.backward()\n",
        "        optimizer.step()\n",
        "\n",
        "        total_loss += loss.item()\n",
        "\n",
        "        predicted = (outputs > 0.5).float()\n",
        "        correct_train += (predicted == labels).sum().item()\n",
        "        total_train += labels.size(0)\n",
        "\n",
        "    avg_loss = total_loss / len(train_loader)\n",
        "    train_accuracy = correct_train / total_train\n",
        "    loss_history.append(avg_loss)\n",
        "    train_acc_history.append(train_accuracy)\n",
        "\n",
        "    if (epoch + 1) % 50 == 0:\n",
        "        print(f\"Epoch {epoch+1}/{epochs}, Loss: {avg_loss:.4f}, Train Acc: {train_accuracy:.4f}\")\n",
        "\n",
        "# Evaluate test accuracy\n",
        "model.eval()\n",
        "correct_test = 0\n",
        "total_test = 0\n",
        "\n",
        "with torch.no_grad():\n",
        "    for home_seq, away_seq, static_feats, labels in test_loader:\n",
        "        home_seq, away_seq, static_feats, labels = home_seq.to(device), away_seq.to(device), static_feats.to(device), labels.to(device)\n",
        "        outputs = model(home_seq, away_seq, static_feats).squeeze()\n",
        "        predicted = (outputs > 0.5).float()\n",
        "        correct_test += (predicted == labels).sum().item()\n",
        "        total_test += labels.size(0)\n",
        "\n",
        "test_accuracy = correct_test / total_test\n",
        "\n",
        "# Plot training accuracy over epochs\n",
        "plt.figure(figsize=(12, 5))\n",
        "plt.plot(range(1, epochs + 1), train_acc_history, label=\"Train Accuracy\", color='blue')\n",
        "plt.xlabel(\"Epochs\")\n",
        "plt.ylabel(\"Accuracy\")\n",
        "plt.title(\"Training Accuracy Over Epochs\")\n",
        "\n",
        "plt.scatter([epochs], [test_accuracy], color='red', label=f\"Test Accuracy: {test_accuracy:.2%}\")\n",
        "\n",
        "plt.legend()\n",
        "plt.grid()\n",
        "plt.show()"
      ],
      "metadata": {
        "colab": {
          "base_uri": "https://localhost:8080/",
          "height": 816
        },
        "id": "3rKurdLyYSnC",
        "outputId": "bad87bd2-618d-4283-e032-87fecd4a748b"
      },
      "execution_count": null,
      "outputs": [
        {
          "output_type": "stream",
          "name": "stdout",
          "text": [
            "Epoch 50/1000, Loss: 0.5345, Train Acc: 0.7359\n",
            "Epoch 100/1000, Loss: 0.4170, Train Acc: 0.8040\n",
            "Epoch 150/1000, Loss: 0.3148, Train Acc: 0.8494\n",
            "Epoch 200/1000, Loss: 0.2326, Train Acc: 0.8956\n",
            "Epoch 250/1000, Loss: 0.1767, Train Acc: 0.9111\n",
            "Epoch 300/1000, Loss: 0.1551, Train Acc: 0.9165\n",
            "Epoch 350/1000, Loss: 0.5648, Train Acc: 0.7078\n",
            "Epoch 400/1000, Loss: 0.4225, Train Acc: 0.8013\n",
            "Epoch 450/1000, Loss: 0.3302, Train Acc: 0.8430\n",
            "Epoch 500/1000, Loss: 0.2613, Train Acc: 0.8775\n",
            "Epoch 550/1000, Loss: 0.2517, Train Acc: 0.8838\n",
            "Epoch 600/1000, Loss: 0.2071, Train Acc: 0.9029\n",
            "Epoch 650/1000, Loss: 0.1826, Train Acc: 0.9111\n",
            "Epoch 700/1000, Loss: 0.2755, Train Acc: 0.8748\n",
            "Epoch 750/1000, Loss: 0.1680, Train Acc: 0.9038\n",
            "Epoch 800/1000, Loss: 0.2042, Train Acc: 0.8938\n",
            "Epoch 850/1000, Loss: 0.1472, Train Acc: 0.9201\n",
            "Epoch 900/1000, Loss: 0.1378, Train Acc: 0.9211\n",
            "Epoch 950/1000, Loss: 0.1706, Train Acc: 0.9093\n",
            "Epoch 1000/1000, Loss: 0.1505, Train Acc: 0.9120\n"
          ]
        },
        {
          "output_type": "display_data",
          "data": {
            "text/plain": [
              "<Figure size 1200x500 with 1 Axes>"
            ],
            "image/png": "[encoded data removed]"
          },
          "metadata": {}
        }
      ]
    },
    {
      "cell_type": "markdown",
      "source": [
        "Notes\n",
        "\n",
        "no exploration of hyperparameters (just wrote something basic that is not very good to try it)\n",
        "\n",
        "tried a hybrid architecture because it seems popular online\n",
        "\n",
        "What data do i need. What can i get rid of.\n",
        "\n",
        "Need to get the most updated data and continue.\n",
        "\n",
        "Deep learning should be considered. I need a large input\n",
        "\n",
        "How do I format my input?\n",
        "\n",
        "Idea\n",
        "- Input is the roster with each player and their most recent 10 games stats\n",
        "- Input also includes team stats\n",
        "\n",
        "Why is training accuracy high but testing is low?\n",
        "- What causes those huge jumps in the data\n",
        "\n",
        "Can i convert it to a percentage change of a team winning?\n",
        "\n",
        "70 percent accuracy in the real world would be incredible\n",
        "\n"
      ],
      "metadata": {
        "id": "39JKInzw5D_-"
      }
    },
    {
      "cell_type": "markdown",
      "source": [
        "# ADDITIONS ON PART 2 START HERE\n",
        "\n",
        "First attempt to reduce overfitting we will use dropout, weight decay, and early stopping"
      ],
      "metadata": {
        "id": "37zfDLBHT7cm"
      }
    },
    {
      "cell_type": "code",
      "source": [
        "class NBA_Dataset(Dataset):\n",
        "    def __init__(self, data, labels):\n",
        "        self.data = data\n",
        "        self.labels = labels\n",
        "\n",
        "    def __len__(self):\n",
        "        return len(self.data)\n",
        "\n",
        "    def __getitem__(self, idx):\n",
        "        home_seq, away_seq, static_feats = self.data[idx]\n",
        "        return home_seq, away_seq, static_feats, self.labels[idx]\n",
        "\n",
        "batch_size = 32\n",
        "train_dataset = NBA_Dataset(train_data, train_labels)\n",
        "test_dataset = NBA_Dataset(test_data, test_labels)\n",
        "\n",
        "train_loader = DataLoader(train_dataset, batch_size=batch_size, shuffle=True)\n",
        "test_loader = DataLoader(test_dataset, batch_size=batch_size, shuffle=False)\n",
        "\n",
        "# Modified Hybrid model with Dropout to reduce overfitting\n",
        "class NBAHybridModel(nn.Module):\n",
        "    def __init__(self, input_size, static_size, hidden_size, num_layers, dropout=0.3):\n",
        "        super(NBAHybridModel, self).__init__()\n",
        "        # Added dropout to LSTM layers\n",
        "        self.lstm_home = nn.LSTM(input_size, hidden_size, num_layers, batch_first=True, dropout=dropout)\n",
        "        self.lstm_away = nn.LSTM(input_size, hidden_size, num_layers, batch_first=True, dropout=dropout)\n",
        "\n",
        "        self.fc_static = nn.Linear(static_size, hidden_size)\n",
        "        self.fc_combined = nn.Linear(hidden_size * 3, 64)\n",
        "        self.fc_output = nn.Linear(64, 1)\n",
        "        self.relu = nn.ReLU()\n",
        "        self.sigmoid = nn.Sigmoid()\n",
        "        self.dropout = nn.Dropout(dropout)  # Added dropout\n",
        "\n",
        "    def forward(self, home_seq, away_seq, static_feats):\n",
        "        _, (home_hidden, _) = self.lstm_home(home_seq)\n",
        "        _, (away_hidden, _) = self.lstm_away(away_seq)\n",
        "\n",
        "        static_out = self.relu(self.fc_static(static_feats))\n",
        "        static_out = self.dropout(static_out)  # Dropout after static features\n",
        "\n",
        "        combined = torch.cat((home_hidden[-1], away_hidden[-1], static_out), dim=1)\n",
        "        x = self.relu(self.fc_combined(combined))\n",
        "        x = self.dropout(x)  # Dropout after combining\n",
        "        x = self.fc_output(x)\n",
        "        return self.sigmoid(x)"
      ],
      "metadata": {
        "id": "3ySkYFVIVJx9"
      },
      "execution_count": null,
      "outputs": []
    },
    {
      "cell_type": "code",
      "source": [
        "input_size = len(seq_features)\n",
        "static_size = len(static_features)\n",
        "hidden_size = 32\n",
        "num_layers = 2\n",
        "\n",
        "model = NBAHybridModel(input_size, static_size, hidden_size, num_layers, dropout=0.3)\n",
        "criterion = nn.BCELoss()\n",
        "# Added weight decay for regularization\n",
        "optimizer = optim.Adam(model.parameters(), lr=0.001, weight_decay=1e-4)\n",
        "\n",
        "# Using GPU if available\n",
        "device = torch.device(\"cuda\" if torch.cuda.is_available() else \"cpu\")\n",
        "model.to(device)\n",
        "\n",
        "# Early Stopping parameters\n",
        "epochs = 1000\n",
        "early_stop_patience = 50\n",
        "best_loss = float('inf')\n",
        "epochs_no_improve = 0\n",
        "\n",
        "loss_history = []\n",
        "train_acc_history = []\n",
        "\n",
        "for epoch in range(epochs):\n",
        "    model.train()\n",
        "    total_loss = 0\n",
        "    correct_train = 0\n",
        "    total_train = 0\n",
        "\n",
        "    for home_seq, away_seq, static_feats, labels in train_loader:\n",
        "        home_seq, away_seq, static_feats, labels = home_seq.to(device), away_seq.to(device), static_feats.to(device), labels.to(device)\n",
        "\n",
        "        optimizer.zero_grad()\n",
        "        outputs = model(home_seq, away_seq, static_feats).squeeze()\n",
        "        loss = criterion(outputs, labels)\n",
        "        loss.backward()\n",
        "        optimizer.step()\n",
        "\n",
        "        total_loss += loss.item()\n",
        "        predicted = (outputs > 0.5).float()\n",
        "        correct_train += (predicted == labels).sum().item()\n",
        "        total_train += labels.size(0)\n",
        "\n",
        "    avg_loss = total_loss / len(train_loader)\n",
        "    train_accuracy = correct_train / total_train\n",
        "    loss_history.append(avg_loss)\n",
        "    train_acc_history.append(train_accuracy)\n",
        "\n",
        "    # Early stopping logic\n",
        "    if avg_loss < best_loss:\n",
        "        best_loss = avg_loss\n",
        "        epochs_no_improve = 0\n",
        "    else:\n",
        "        epochs_no_improve += 1\n",
        "\n",
        "    if epochs_no_improve >= early_stop_patience:\n",
        "        print(f\"Early stopping after {epoch+1} epochs.\")\n",
        "        break\n",
        "\n",
        "    if (epoch + 1) % 50 == 0:\n",
        "        print(f\"Epoch {epoch+1}/{epochs}, Loss: {avg_loss:.4f}, Train Acc: {train_accuracy:.4f}\")"
      ],
      "metadata": {
        "id": "8DRRjvGHVSJg",
        "colab": {
          "base_uri": "https://localhost:8080/"
        },
        "outputId": "33f4239a-2296-4616-b903-6d46f0f88c40"
      },
      "execution_count": null,
      "outputs": [
        {
          "output_type": "stream",
          "name": "stdout",
          "text": [
            "Epoch 50/1000, Loss: 0.5779, Train Acc: 0.6978\n",
            "Epoch 100/1000, Loss: 0.5229, Train Acc: 0.7486\n",
            "Epoch 150/1000, Loss: 0.4576, Train Acc: 0.7904\n",
            "Epoch 200/1000, Loss: 0.4072, Train Acc: 0.8103\n",
            "Epoch 250/1000, Loss: 0.3551, Train Acc: 0.8339\n",
            "Epoch 300/1000, Loss: 0.3292, Train Acc: 0.8430\n",
            "Epoch 350/1000, Loss: 0.2883, Train Acc: 0.8621\n",
            "Epoch 400/1000, Loss: 0.2532, Train Acc: 0.8866\n",
            "Epoch 450/1000, Loss: 0.2332, Train Acc: 0.8929\n",
            "Epoch 500/1000, Loss: 0.2336, Train Acc: 0.8920\n",
            "Early stopping after 517 epochs.\n"
          ]
        }
      ]
    },
    {
      "cell_type": "code",
      "source": [
        "# Evaluate test accuracy\n",
        "model.eval()\n",
        "correct_test = 0\n",
        "total_test = 0\n",
        "\n",
        "with torch.no_grad():\n",
        "    for home_seq, away_seq, static_feats, labels in test_loader:\n",
        "        home_seq, away_seq, static_feats, labels = home_seq.to(device), away_seq.to(device), static_feats.to(device), labels.to(device)\n",
        "        outputs = model(home_seq, away_seq, static_feats).squeeze()\n",
        "        predicted = (outputs > 0.5).float()\n",
        "        correct_test += (predicted == labels).sum().item()\n",
        "        total_test += labels.size(0)\n",
        "\n",
        "test_accuracy = correct_test / total_test\n",
        "\n",
        "# Plot training accuracy\n",
        "plt.figure(figsize=(12, 5))\n",
        "plt.plot(range(1, len(train_acc_history) + 1), train_acc_history, label=\"Train Accuracy\", color='blue')\n",
        "plt.scatter([len(train_acc_history)], [test_accuracy], color='red', label=f\"Test Accuracy: {test_accuracy:.2%}\")\n",
        "plt.xlabel(\"Epochs\")\n",
        "plt.ylabel(\"Accuracy\")\n",
        "plt.title(\"Training Accuracy with Early Stopping\")\n",
        "plt.legend()\n",
        "plt.grid()\n",
        "plt.show()"
      ],
      "metadata": {
        "id": "p8zwQTnTVW_a",
        "colab": {
          "base_uri": "https://localhost:8080/",
          "height": 487
        },
        "outputId": "56e2533e-8ae8-4468-a902-21cb889fbd4b"
      },
      "execution_count": null,
      "outputs": [
        {
          "output_type": "display_data",
          "data": {
            "text/plain": [
              "<Figure size 1200x500 with 1 Axes>"
            ],
            "image/png": "[encoded data removed]"
          },
          "metadata": {}
        }
      ]
    },
    {
      "cell_type": "markdown",
      "source": [
        "We are still struggling with overfitting here. We will usedropout and batch norm. We will also increase weight decay and use a learning rate scheduler to stop training earlier."
      ],
      "metadata": {
        "id": "y3lhkX1DHViB"
      }
    },
    {
      "cell_type": "code",
      "source": [
        "class NBA_Dataset(Dataset):\n",
        "    def __init__(self, data, labels):\n",
        "        self.data = data\n",
        "        self.labels = labels\n",
        "\n",
        "    def __len__(self):\n",
        "        return len(self.data)\n",
        "\n",
        "    def __getitem__(self, idx):\n",
        "        home_seq, away_seq, static_feats = self.data[idx]\n",
        "        return home_seq, away_seq, static_feats, self.labels[idx]\n",
        "\n",
        "batch_size = 32\n",
        "train_dataset = NBA_Dataset(train_data, train_labels)\n",
        "test_dataset = NBA_Dataset(test_data, test_labels)\n",
        "\n",
        "train_loader = DataLoader(train_dataset, batch_size=batch_size, shuffle=True)\n",
        "test_loader = DataLoader(test_dataset, batch_size=batch_size, shuffle=False)\n",
        "\n",
        "# Further simplified Hybrid model with stronger Dropout and BatchNorm\n",
        "class NBAHybridModel(nn.Module):\n",
        "    def __init__(self, input_size, static_size, hidden_size, num_layers, dropout=0.5):\n",
        "        super(NBAHybridModel, self).__init__()\n",
        "        self.lstm_home = nn.LSTM(input_size, hidden_size, num_layers, batch_first=True, dropout=dropout)\n",
        "        self.lstm_away = nn.LSTM(input_size, hidden_size, num_layers, batch_first=True, dropout=dropout)\n",
        "\n",
        "        self.fc_static = nn.Linear(static_size, hidden_size)\n",
        "        self.fc_combined = nn.Linear(hidden_size * 3, 64)\n",
        "        self.bn_combined = nn.BatchNorm1d(64)  # BatchNorm added\n",
        "        self.fc_output = nn.Linear(64, 1)\n",
        "        self.relu = nn.ReLU()\n",
        "        self.sigmoid = nn.Sigmoid()\n",
        "        self.dropout = nn.Dropout(dropout)\n",
        "\n",
        "    def forward(self, home_seq, away_seq, static_feats):\n",
        "        _, (home_hidden, _) = self.lstm_home(home_seq)\n",
        "        _, (away_hidden, _) = self.lstm_away(away_seq)\n",
        "\n",
        "        static_out = self.relu(self.fc_static(static_feats))\n",
        "        static_out = self.dropout(static_out)\n",
        "\n",
        "        combined = torch.cat((home_hidden[-1], away_hidden[-1], static_out), dim=1)\n",
        "        x = self.fc_combined(combined)\n",
        "        x = self.bn_combined(x)  # Batch normalization\n",
        "        x = self.relu(x)\n",
        "        x = self.dropout(x)\n",
        "        x = self.fc_output(x)\n",
        "        return self.sigmoid(x)"
      ],
      "metadata": {
        "id": "LGXPtYIgVbWH"
      },
      "execution_count": null,
      "outputs": []
    },
    {
      "cell_type": "code",
      "source": [
        "input_size = len(seq_features)\n",
        "static_size = len(static_features)\n",
        "hidden_size = 16  # Reduced size\n",
        "num_layers = 1    # Reduced complexity\n",
        "\n",
        "dropout = 0.5\n",
        "model = NBAHybridModel(input_size, static_size, hidden_size, num_layers, dropout=dropout)\n",
        "criterion = nn.BCELoss()\n",
        "optimizer = optim.Adam(model.parameters(), lr=0.001, weight_decay=5e-4)  # Increased weight decay\n",
        "scheduler = torch.optim.lr_scheduler.ReduceLROnPlateau(optimizer, 'min', patience=10, factor=0.5)\n",
        "\n",
        "device = torch.device(\"cuda\" if torch.cuda.is_available() else \"cpu\")\n",
        "model.to(device)\n",
        "\n",
        "epochs = 1000\n",
        "early_stop_patience = 50\n",
        "best_loss = float('inf')\n",
        "epochs_no_improve = 0\n",
        "\n",
        "loss_history = []\n",
        "train_acc_history = []\n",
        "\n",
        "for epoch in range(epochs):\n",
        "    model.train()\n",
        "    total_loss = 0\n",
        "    correct_train = 0\n",
        "    total_train = 0\n",
        "\n",
        "    for home_seq, away_seq, static_feats, labels in train_loader:\n",
        "        home_seq, away_seq, static_feats, labels = home_seq.to(device), away_seq.to(device), static_feats.to(device), labels.to(device)\n",
        "\n",
        "        optimizer.zero_grad()\n",
        "        outputs = model(home_seq, away_seq, static_feats).squeeze()\n",
        "        loss = criterion(outputs, labels)\n",
        "        loss.backward()\n",
        "        optimizer.step()\n",
        "\n",
        "        total_loss += loss.item()\n",
        "        predicted = (outputs > 0.5).float()\n",
        "        correct_train += (predicted == labels).sum().item()\n",
        "        total_train += labels.size(0)\n",
        "\n",
        "    avg_loss = total_loss / len(train_loader)\n",
        "    train_accuracy = correct_train / total_train\n",
        "    loss_history.append(avg_loss)\n",
        "    train_acc_history.append(train_accuracy)\n",
        "\n",
        "    scheduler.step(avg_loss)  # Learning rate scheduler step\n",
        "\n",
        "    if avg_loss < best_loss:\n",
        "        best_loss = avg_loss\n",
        "        epochs_no_improve = 0\n",
        "    else:\n",
        "        epochs_no_improve += 1\n",
        "\n",
        "    if epochs_no_improve >= early_stop_patience:\n",
        "        print(f\"Early stopping after {epoch+1} epochs.\")\n",
        "        break\n",
        "\n",
        "    if (epoch + 1) % 50 == 0:\n",
        "        print(f\"Epoch {epoch+1}/{epochs}, Loss: {avg_loss:.4f}, Train Acc: {train_accuracy:.4f}\")"
      ],
      "metadata": {
        "colab": {
          "base_uri": "https://localhost:8080/"
        },
        "id": "fhrnI1yrBcRl",
        "outputId": "016509ae-711c-482d-9c1a-d4814a975429"
      },
      "execution_count": null,
      "outputs": [
        {
          "output_type": "stream",
          "name": "stderr",
          "text": [
            "/usr/local/lib/python3.11/dist-packages/torch/nn/modules/rnn.py:123: UserWarning: dropout option adds dropout after all but last recurrent layer, so non-zero dropout expects num_layers greater than 1, but got dropout=0.5 and num_layers=1\n",
            "  warnings.warn(\n"
          ]
        },
        {
          "output_type": "stream",
          "name": "stdout",
          "text": [
            "Epoch 50/1000, Loss: 0.5731, Train Acc: 0.7178\n",
            "Epoch 100/1000, Loss: 0.5418, Train Acc: 0.7368\n",
            "Epoch 150/1000, Loss: 0.5116, Train Acc: 0.7432\n",
            "Epoch 200/1000, Loss: 0.4973, Train Acc: 0.7541\n",
            "Epoch 250/1000, Loss: 0.5107, Train Acc: 0.7677\n",
            "Epoch 300/1000, Loss: 0.5062, Train Acc: 0.7477\n",
            "Early stopping after 314 epochs.\n"
          ]
        }
      ]
    },
    {
      "cell_type": "code",
      "source": [
        "model.eval()\n",
        "correct_test = 0\n",
        "total_test = 0\n",
        "\n",
        "with torch.no_grad():\n",
        "    for home_seq, away_seq, static_feats, labels in test_loader:\n",
        "        home_seq, away_seq, static_feats, labels = home_seq.to(device), away_seq.to(device), static_feats.to(device), labels.to(device)\n",
        "        outputs = model(home_seq, away_seq, static_feats).squeeze()\n",
        "        predicted = (outputs > 0.5).float()\n",
        "        correct_test += (predicted == labels).sum().item()\n",
        "        total_test += labels.size(0)\n",
        "\n",
        "test_accuracy = correct_test / total_test\n",
        "\n",
        "plt.figure(figsize=(12, 5))\n",
        "plt.plot(range(1, len(train_acc_history) + 1), train_acc_history, label=\"Train Accuracy\", color='blue')\n",
        "plt.scatter([len(train_acc_history)], [test_accuracy], color='red', label=f\"Test Accuracy: {test_accuracy:.2%}\")\n",
        "plt.xlabel(\"Epochs\")\n",
        "plt.ylabel(\"Accuracy\")\n",
        "plt.title(\"Training Accuracy with Early Stopping\")\n",
        "plt.legend()\n",
        "plt.grid()\n",
        "plt.show()"
      ],
      "metadata": {
        "colab": {
          "base_uri": "https://localhost:8080/",
          "height": 487
        },
        "id": "mvJntoanBj58",
        "outputId": "2aca3e7e-5220-497c-d2a7-3a22a39d4ce6"
      },
      "execution_count": null,
      "outputs": [
        {
          "output_type": "display_data",
          "data": {
            "text/plain": [
              "<Figure size 1200x500 with 1 Axes>"
            ],
            "image/png": "[encoded data removed]"
          },
          "metadata": {}
        }
      ]
    },
    {
      "cell_type": "markdown",
      "source": [
        "We achieved 62% here which is higher than the ones previously but only marginally. I believe that using more data would help the model work better so we will try training with the additional data but the same model as above."
      ],
      "metadata": {
        "id": "gxW6Un3yU0TI"
      }
    },
    {
      "cell_type": "code",
      "source": [
        "# Load full dataset this time\n",
        "games = pd.read_csv(path_to_games)\n",
        "game_details = pd.read_csv(path_to_game_details)\n",
        "ranking = pd.read_csv(path_to_ranking)\n",
        "\n",
        "# Drop unnecessary columns\n",
        "ranking = ranking.drop(columns=['LEAGUE_ID', 'SEASON_ID', 'STANDINGSDATE', 'CONFERENCE', 'TEAM', 'G', 'W', 'L', 'RETURNTOPLAY'], errors='ignore')\n",
        "ranking = ranking.sort_values(by=['TEAM_ID'], ascending=True).drop_duplicates(subset=['TEAM_ID'], keep='last')\n",
        "ranking_dict = ranking.set_index('TEAM_ID').to_dict(orient='index')\n",
        "\n",
        "game_details = game_details[['GAME_ID', 'TEAM_ID', 'PTS', 'AST', 'REB', 'STL', 'BLK', 'TO', 'FG_PCT', 'FG3_PCT', 'FT_PCT']]\n",
        "\n",
        "# Aggregate game details\n",
        "game_details_agg = game_details.groupby(['GAME_ID', 'TEAM_ID']).agg({\n",
        "    'PTS': 'sum', 'AST': 'sum', 'REB': 'sum', 'STL': 'sum',\n",
        "    'BLK': 'sum', 'TO': 'sum', 'FG_PCT': 'mean', 'FG3_PCT': 'mean', 'FT_PCT': 'mean'\n",
        "}).to_dict(orient='index')\n",
        "\n",
        "# Prepare merged data\n",
        "games = games.drop(columns=['GAME_STATUS_TEXT'], errors='ignore')\n",
        "processed_data = []\n",
        "\n",
        "for _, row in games.iterrows():\n",
        "    game_id = row['GAME_ID']\n",
        "    home_team = row['TEAM_ID_home']\n",
        "    away_team = row['TEAM_ID_away']\n",
        "\n",
        "    home_ranking = ranking_dict.get(home_team, {})\n",
        "    away_ranking = ranking_dict.get(away_team, {})\n",
        "\n",
        "    home_stats = game_details_agg.get((game_id, home_team), {})\n",
        "    away_stats = game_details_agg.get((game_id, away_team), {})\n",
        "\n",
        "    combined_row = {\n",
        "        **row.to_dict(),\n",
        "        **{f\"{k}_home\": v for k, v in home_ranking.items()},\n",
        "        **{f\"{k}_away\": v for k, v in away_ranking.items()},\n",
        "        **{f\"{k}_home\": v for k, v in home_stats.items()},\n",
        "        **{f\"{k}_away\": v for k, v in away_stats.items()}\n",
        "    }\n",
        "\n",
        "    processed_data.append(combined_row)\n",
        "\n",
        "games_final = pd.DataFrame(processed_data)\n",
        "\n",
        "# Data normalization and pre-processing\n",
        "N_GAMES = 10\n",
        "stats_columns = ['PTS', 'AST', 'REB', 'STL', 'BLK', 'TO', 'FG_PCT', 'FG3_PCT', 'FT_PCT']\n",
        "feature_rows = []\n",
        "\n",
        "for _, game in games.iterrows():\n",
        "    game_id = game['GAME_ID']\n",
        "    home_team = game['TEAM_ID_home']\n",
        "    away_team = game['TEAM_ID_away']\n",
        "\n",
        "    home_games = [g for g in game_details[game_details['TEAM_ID'] == home_team].to_dict('records') if g['GAME_ID'] < game_id][-N_GAMES:]\n",
        "    away_games = [g for g in game_details[game_details['TEAM_ID'] == away_team].to_dict('records') if g['GAME_ID'] < game_id][-N_GAMES:]\n",
        "\n",
        "    def rolling_avg(games, stat):\n",
        "        values = [g[stat] for g in games if not pd.isna(g[stat])]\n",
        "        return np.mean(values) if values else 0\n",
        "\n",
        "    home_features = {f\"{stat}_home_avg\": rolling_avg(home_games, stat) for stat in stats_columns}\n",
        "    away_features = {f\"{stat}_away_avg\": rolling_avg(away_games, stat) for stat in stats_columns}\n",
        "\n",
        "    home_win_pct = np.mean([1 if g['PTS'] > g['PTS'] else 0 for g in home_games]) if home_games else 0.5\n",
        "    away_win_pct = np.mean([1 if g['PTS'] > g['PTS'] else 0 for g in away_games]) if away_games else 0.5\n",
        "\n",
        "    row = {\n",
        "        \"GAME_ID\": game_id,\n",
        "        \"HOME_TEAM_ID\": home_team,\n",
        "        \"AWAY_TEAM_ID\": away_team,\n",
        "        \"HOME_WIN\": game[\"HOME_TEAM_WINS\"],\n",
        "        \"HOME_WIN_PCT\": home_win_pct,\n",
        "        \"AWAY_WIN_PCT\": away_win_pct,\n",
        "        **home_features,\n",
        "        **away_features,\n",
        "    }\n",
        "\n",
        "    feature_rows.append(row)\n",
        "\n",
        "features_df = pd.DataFrame(feature_rows)\n",
        "features_df.fillna(0, inplace=True)\n",
        "\n",
        "# Normalize static features\n",
        "static_features = ['HOME_WIN_PCT', 'AWAY_WIN_PCT']\n",
        "seq_features = stats_columns\n",
        "scaler = StandardScaler()\n",
        "features_df[static_features] = scaler.fit_transform(features_df[static_features])\n",
        "\n",
        "# Prepare sequences\n",
        "team_games = {}\n",
        "sequences, targets = [], []\n",
        "\n",
        "for _, row in features_df.iterrows():\n",
        "    home_team, away_team = row['HOME_TEAM_ID'], row['AWAY_TEAM_ID']\n",
        "    home_games = team_games.get(home_team, [])[-N_GAMES:]\n",
        "    away_games = team_games.get(away_team, [])[-N_GAMES:]\n",
        "\n",
        "    while len(home_games) < N_GAMES:\n",
        "        home_games.insert(0, np.zeros(len(seq_features)))\n",
        "\n",
        "    while len(away_games) < N_GAMES:\n",
        "        away_games.insert(0, np.zeros(len(seq_features)))\n",
        "\n",
        "    sequences.append((torch.tensor(home_games, dtype=torch.float32), torch.tensor(away_games, dtype=torch.float32), torch.tensor(row[static_features].values, dtype=torch.float32)))\n",
        "    targets.append(row['HOME_WIN'])\n",
        "\n",
        "    home_game_stats = row[[f\"{stat}_home_avg\" for stat in seq_features]].values\n",
        "    away_game_stats = row[[f\"{stat}_away_avg\" for stat in seq_features]].values\n",
        "\n",
        "    team_games.setdefault(home_team, []).append(home_game_stats)\n",
        "    team_games.setdefault(away_team, []).append(away_game_stats)\n",
        "\n",
        "sequences = [(torch.tensor(h, dtype=torch.float32), torch.tensor(a, dtype=torch.float32), torch.tensor(s, dtype=torch.float32)) for h, a, s in sequences]\n",
        "targets = torch.tensor(targets, dtype=torch.float32)\n",
        "\n",
        "train_data, test_data, train_labels, test_labels = train_test_split(sequences, targets, test_size=0.2, random_state=42)\n"
      ],
      "metadata": {
        "colab": {
          "base_uri": "https://localhost:8080/"
        },
        "id": "ZmZQ1FoeH2__",
        "outputId": "0252c91e-f7f7-459a-d43c-0774d6e1ba20"
      },
      "execution_count": null,
      "outputs": [
        {
          "output_type": "stream",
          "name": "stderr",
          "text": [
            "<ipython-input-5-a6b96b1c0db2>:3: DtypeWarning: Columns (6) have mixed types. Specify dtype option on import or set low_memory=False.\n",
            "  game_details = pd.read_csv(path_to_game_details)\n",
            "<ipython-input-5-a6b96b1c0db2>:106: UserWarning: Creating a tensor from a list of numpy.ndarrays is extremely slow. Please consider converting the list to a single numpy.ndarray with numpy.array() before converting to a tensor. (Triggered internally at /pytorch/torch/csrc/utils/tensor_new.cpp:254.)\n",
            "  sequences.append((torch.tensor(home_games, dtype=torch.float32), torch.tensor(away_games, dtype=torch.float32), torch.tensor(row[static_features].values, dtype=torch.float32)))\n",
            "<ipython-input-5-a6b96b1c0db2>:115: UserWarning: To copy construct from a tensor, it is recommended to use sourceTensor.clone().detach() or sourceTensor.clone().detach().requires_grad_(True), rather than torch.tensor(sourceTensor).\n",
            "  sequences = [(torch.tensor(h, dtype=torch.float32), torch.tensor(a, dtype=torch.float32), torch.tensor(s, dtype=torch.float32)) for h, a, s in sequences]\n"
          ]
        }
      ]
    },
    {
      "cell_type": "code",
      "source": [
        "# Saving the variables into a csv incase we need to use them again\n",
        "import pickle\n",
        "import os\n",
        "\n",
        "# Paths for processed data\n",
        "processed_features_path = '/content/drive/MyDrive/all_processed_features_df.csv'\n",
        "sequences_path = '/content/drive/MyDrive/sequences.pkl'\n",
        "targets_path = '/content/drive/MyDrive/targets.pkl'\n",
        "\n",
        "# Save the files\n",
        "features_df.to_csv(processed_features_path, index=False)\n",
        "\n",
        "with open(sequences_path, 'wb') as f:\n",
        "    pickle.dump(sequences, f)\n",
        "\n",
        "with open(targets_path, 'wb') as f:\n",
        "    pickle.dump(targets, f)\n",
        "\n",
        "'''\n",
        "# Paths for saving processed data\n",
        "processed_features_path = 'all_processed_features_df.csv'\n",
        "sequences_path = 'sequences.pkl'\n",
        "targets_path = 'targets.pkl'\n",
        "\n",
        "if os.path.exists(processed_features_path) and os.path.exists(sequences_path) and os.path.exists(targets_path):\n",
        "    # Load previously processed data\n",
        "    features_df = pd.read_csv(processed_features_path)\n",
        "    with open(sequences_path, 'rb') as f:\n",
        "        sequences = pickle.load(f)\n",
        "    with open(targets_path, 'rb') as f:\n",
        "        targets = pickle.load(f)\n",
        "else:\n",
        "    # If files don't exist, process the data and then save\n",
        "    features_df.to_csv(processed_features_path, index=False)\n",
        "\n",
        "    with open(sequences_path, 'wb') as f:\n",
        "        pickle.dump(sequences, f)\n",
        "\n",
        "    with open(targets_path, 'wb') as f:\n",
        "        pickle.dump(targets, f)\n",
        "'''\n"
      ],
      "metadata": {
        "colab": {
          "base_uri": "https://localhost:8080/",
          "height": 116
        },
        "id": "ng4R6I5IOr3b",
        "outputId": "44541be3-ae62-4cb9-f90e-f1e4eb9648b1"
      },
      "execution_count": null,
      "outputs": [
        {
          "output_type": "execute_result",
          "data": {
            "text/plain": [
              "\"\\n# Paths for saving processed data\\nprocessed_features_path = 'all_processed_features_df.csv'\\nsequences_path = 'sequences.pkl'\\ntargets_path = 'targets.pkl'\\n\\nif os.path.exists(processed_features_path) and os.path.exists(sequences_path) and os.path.exists(targets_path):\\n    # Load previously processed data\\n    features_df = pd.read_csv(processed_features_path)\\n    with open(sequences_path, 'rb') as f:\\n        sequences = pickle.load(f)\\n    with open(targets_path, 'rb') as f:\\n        targets = pickle.load(f)\\nelse:\\n    # If files don't exist, process the data and then save\\n    features_df.to_csv(processed_features_path, index=False)\\n\\n    with open(sequences_path, 'wb') as f:\\n        pickle.dump(sequences, f)\\n\\n    with open(targets_path, 'wb') as f:\\n        pickle.dump(targets, f)\\n\""
            ],
            "application/vnd.google.colaboratory.intrinsic+json": {
              "type": "string"
            }
          },
          "metadata": {},
          "execution_count": 10
        }
      ]
    },
    {
      "cell_type": "markdown",
      "source": [
        "Now with the updated dataset we can go ahead with training on the most recent model (This takes a long time (50 min) to run just a heads up if you plan to run it)."
      ],
      "metadata": {
        "id": "WVS0x-w1J1HF"
      }
    },
    {
      "cell_type": "code",
      "source": [
        "class NBA_Dataset(Dataset):\n",
        "    def __init__(self, data, labels):\n",
        "        self.data = data\n",
        "        self.labels = labels\n",
        "\n",
        "    def __len__(self):\n",
        "        return len(self.data)\n",
        "\n",
        "    def __getitem__(self, idx):\n",
        "        home_seq, away_seq, static_feats = self.data[idx]\n",
        "        return home_seq, away_seq, static_feats, self.labels[idx]\n",
        "\n",
        "batch_size = 32\n",
        "train_loader = DataLoader(NBA_Dataset(train_data, train_labels), batch_size=batch_size, shuffle=True)\n",
        "test_loader = DataLoader(NBA_Dataset(test_data, test_labels), batch_size=batch_size, shuffle=False)\n",
        "\n",
        "# Model definition\n",
        "class NBAHybridModel(nn.Module):\n",
        "    def __init__(self, input_size, static_size, hidden_size, num_layers, dropout=0.5):\n",
        "        super(NBAHybridModel, self).__init__()\n",
        "        self.lstm_home = nn.LSTM(input_size, hidden_size, num_layers, batch_first=True, dropout=dropout)\n",
        "        self.lstm_away = nn.LSTM(input_size, hidden_size, num_layers, batch_first=True, dropout=dropout)\n",
        "\n",
        "        self.fc_static = nn.Linear(static_size, hidden_size)\n",
        "        self.fc_combined = nn.Linear(hidden_size * 3, 64)\n",
        "        self.bn_combined = nn.BatchNorm1d(64)\n",
        "        self.fc_output = nn.Linear(64, 1)\n",
        "        self.relu = nn.ReLU()\n",
        "        self.sigmoid = nn.Sigmoid()\n",
        "        self.dropout = nn.Dropout(dropout)\n",
        "\n",
        "    def forward(self, home_seq, away_seq, static_feats):\n",
        "        _, (home_hidden, _) = self.lstm_home(home_seq)\n",
        "        _, (away_hidden, _) = self.lstm_away(away_seq)\n",
        "\n",
        "        static_out = self.relu(self.fc_static(static_feats))\n",
        "        static_out = self.dropout(static_out)\n",
        "\n",
        "        combined = torch.cat((home_hidden[-1], away_hidden[-1], static_out), dim=1)\n",
        "        x = self.fc_combined(combined)\n",
        "        x = self.bn_combined(x)\n",
        "        x = self.relu(x)\n",
        "        x = self.dropout(x)\n",
        "        x = self.fc_output(x)\n",
        "        return self.sigmoid(x)"
      ],
      "metadata": {
        "colab": {
          "base_uri": "https://localhost:8080/",
          "height": 201
        },
        "id": "Fb7xhF_FWb2x",
        "outputId": "4a6ebd87-2968-4ddc-de7a-77cdbd7e4715"
      },
      "execution_count": null,
      "outputs": [
        {
          "output_type": "error",
          "ename": "NameError",
          "evalue": "name 'train_data' is not defined",
          "traceback": [
            "\u001b[0;31m---------------------------------------------------------------------------\u001b[0m",
            "\u001b[0;31mNameError\u001b[0m                                 Traceback (most recent call last)",
            "\u001b[0;32m<ipython-input-6-9a0917b58792>\u001b[0m in \u001b[0;36m<cell line: 0>\u001b[0;34m()\u001b[0m\n\u001b[1;32m     12\u001b[0m \u001b[0;34m\u001b[0m\u001b[0m\n\u001b[1;32m     13\u001b[0m \u001b[0mbatch_size\u001b[0m \u001b[0;34m=\u001b[0m \u001b[0;36m32\u001b[0m\u001b[0;34m\u001b[0m\u001b[0;34m\u001b[0m\u001b[0m\n\u001b[0;32m---> 14\u001b[0;31m \u001b[0mtrain_loader\u001b[0m \u001b[0;34m=\u001b[0m \u001b[0mDataLoader\u001b[0m\u001b[0;34m(\u001b[0m\u001b[0mNBA_Dataset\u001b[0m\u001b[0;34m(\u001b[0m\u001b[0mtrain_data\u001b[0m\u001b[0;34m,\u001b[0m \u001b[0mtrain_labels\u001b[0m\u001b[0;34m)\u001b[0m\u001b[0;34m,\u001b[0m \u001b[0mbatch_size\u001b[0m\u001b[0;34m=\u001b[0m\u001b[0mbatch_size\u001b[0m\u001b[0;34m,\u001b[0m \u001b[0mshuffle\u001b[0m\u001b[0;34m=\u001b[0m\u001b[0;32mTrue\u001b[0m\u001b[0;34m)\u001b[0m\u001b[0;34m\u001b[0m\u001b[0;34m\u001b[0m\u001b[0m\n\u001b[0m\u001b[1;32m     15\u001b[0m \u001b[0mtest_loader\u001b[0m \u001b[0;34m=\u001b[0m \u001b[0mDataLoader\u001b[0m\u001b[0;34m(\u001b[0m\u001b[0mNBA_Dataset\u001b[0m\u001b[0;34m(\u001b[0m\u001b[0mtest_data\u001b[0m\u001b[0;34m,\u001b[0m \u001b[0mtest_labels\u001b[0m\u001b[0;34m)\u001b[0m\u001b[0;34m,\u001b[0m \u001b[0mbatch_size\u001b[0m\u001b[0;34m=\u001b[0m\u001b[0mbatch_size\u001b[0m\u001b[0;34m,\u001b[0m \u001b[0mshuffle\u001b[0m\u001b[0;34m=\u001b[0m\u001b[0;32mFalse\u001b[0m\u001b[0;34m)\u001b[0m\u001b[0;34m\u001b[0m\u001b[0;34m\u001b[0m\u001b[0m\n\u001b[1;32m     16\u001b[0m \u001b[0;34m\u001b[0m\u001b[0m\n",
            "\u001b[0;31mNameError\u001b[0m: name 'train_data' is not defined"
          ]
        }
      ]
    },
    {
      "cell_type": "code",
      "source": [
        "input_size = 9  # Number of sequential features\n",
        "static_size = 2  # Number of static features\n",
        "hidden_size = 16\n",
        "num_layers = 1\n",
        "\n",
        "device = torch.device(\"cuda\" if torch.cuda.is_available() else \"cpu\")\n",
        "model = NBAHybridModel(input_size, static_size, hidden_size, num_layers).to(device)\n",
        "\n",
        "criterion = nn.BCELoss()\n",
        "optimizer = optim.Adam(model.parameters(), lr=0.001, weight_decay=5e-4)\n",
        "scheduler = torch.optim.lr_scheduler.ReduceLROnPlateau(optimizer, 'min', patience=10, factor=0.5)\n",
        "\n",
        "# Training loop with Early Stopping\n",
        "epochs = 1000\n",
        "early_stop_patience = 50\n",
        "best_loss = float('inf')\n",
        "epochs_no_improve = 0\n",
        "loss_history, train_acc_history = [], []\n",
        "\n",
        "for epoch in range(epochs):\n",
        "    model.train()\n",
        "    total_loss, correct_train, total_train = 0, 0, 0\n",
        "\n",
        "    for home_seq, away_seq, static_feats, labels in train_loader:\n",
        "        home_seq, away_seq, static_feats, labels = home_seq.to(device), away_seq.to(device), static_feats.to(device), labels.to(device)\n",
        "        optimizer.zero_grad()\n",
        "        outputs = model(home_seq, away_seq, static_feats).squeeze()\n",
        "        loss = criterion(outputs, labels)\n",
        "        loss.backward()\n",
        "        optimizer.step()\n",
        "\n",
        "        total_loss += loss.item()\n",
        "        predicted = (outputs > 0.5).float()\n",
        "        correct_train += (predicted == labels).sum().item()\n",
        "        total_train += labels.size(0)\n",
        "\n",
        "    avg_loss = total_loss / len(train_loader)\n",
        "    train_accuracy = correct_train / total_train\n",
        "    loss_history.append(avg_loss)\n",
        "    train_acc_history.append(train_accuracy)\n",
        "\n",
        "    scheduler.step(avg_loss)\n",
        "\n",
        "    if avg_loss < best_loss:\n",
        "        best_loss = avg_loss\n",
        "        epochs_no_improve = 0\n",
        "    else:\n",
        "        epochs_no_improve += 1\n",
        "\n",
        "    if epochs_no_improve >= early_stop_patience:\n",
        "        print(f\"Early stopping after {epoch+1} epochs.\")\n",
        "        break\n",
        "\n",
        "    if (epoch + 1) % 10 == 0:\n",
        "        print(f\"Epoch {epoch+1}/{epochs}, Loss: {avg_loss:.4f}, Train Acc: {train_accuracy:.4f}\")"
      ],
      "metadata": {
        "colab": {
          "base_uri": "https://localhost:8080/",
          "height": 427
        },
        "id": "hs4D6xguKQHh",
        "outputId": "af9444d6-064d-4437-b050-dcc5421838cf"
      },
      "execution_count": null,
      "outputs": [
        {
          "output_type": "stream",
          "name": "stderr",
          "text": [
            "/usr/local/lib/python3.11/dist-packages/torch/nn/modules/rnn.py:123: UserWarning: dropout option adds dropout after all but last recurrent layer, so non-zero dropout expects num_layers greater than 1, but got dropout=0.5 and num_layers=1\n",
            "  warnings.warn(\n"
          ]
        },
        {
          "output_type": "stream",
          "name": "stdout",
          "text": [
            "Epoch 10/1000, Loss: 0.6723, Train Acc: 0.5911\n",
            "Epoch 20/1000, Loss: 0.6711, Train Acc: 0.5919\n"
          ]
        },
        {
          "output_type": "error",
          "ename": "KeyboardInterrupt",
          "evalue": "",
          "traceback": [
            "\u001b[0;31m---------------------------------------------------------------------------\u001b[0m",
            "\u001b[0;31mKeyboardInterrupt\u001b[0m                         Traceback (most recent call last)",
            "\u001b[0;32m<ipython-input-9-7425a5eb2615>\u001b[0m in \u001b[0;36m<cell line: 0>\u001b[0;34m()\u001b[0m\n\u001b[1;32m     27\u001b[0m         \u001b[0moutputs\u001b[0m \u001b[0;34m=\u001b[0m \u001b[0mmodel\u001b[0m\u001b[0;34m(\u001b[0m\u001b[0mhome_seq\u001b[0m\u001b[0;34m,\u001b[0m \u001b[0maway_seq\u001b[0m\u001b[0;34m,\u001b[0m \u001b[0mstatic_feats\u001b[0m\u001b[0;34m)\u001b[0m\u001b[0;34m.\u001b[0m\u001b[0msqueeze\u001b[0m\u001b[0;34m(\u001b[0m\u001b[0;34m)\u001b[0m\u001b[0;34m\u001b[0m\u001b[0;34m\u001b[0m\u001b[0m\n\u001b[1;32m     28\u001b[0m         \u001b[0mloss\u001b[0m \u001b[0;34m=\u001b[0m \u001b[0mcriterion\u001b[0m\u001b[0;34m(\u001b[0m\u001b[0moutputs\u001b[0m\u001b[0;34m,\u001b[0m \u001b[0mlabels\u001b[0m\u001b[0;34m)\u001b[0m\u001b[0;34m\u001b[0m\u001b[0;34m\u001b[0m\u001b[0m\n\u001b[0;32m---> 29\u001b[0;31m         \u001b[0mloss\u001b[0m\u001b[0;34m.\u001b[0m\u001b[0mbackward\u001b[0m\u001b[0;34m(\u001b[0m\u001b[0;34m)\u001b[0m\u001b[0;34m\u001b[0m\u001b[0;34m\u001b[0m\u001b[0m\n\u001b[0m\u001b[1;32m     30\u001b[0m         \u001b[0moptimizer\u001b[0m\u001b[0;34m.\u001b[0m\u001b[0mstep\u001b[0m\u001b[0;34m(\u001b[0m\u001b[0;34m)\u001b[0m\u001b[0;34m\u001b[0m\u001b[0;34m\u001b[0m\u001b[0m\n\u001b[1;32m     31\u001b[0m \u001b[0;34m\u001b[0m\u001b[0m\n",
            "\u001b[0;32m/usr/local/lib/python3.11/dist-packages/torch/_tensor.py\u001b[0m in \u001b[0;36mbackward\u001b[0;34m(self, gradient, retain_graph, create_graph, inputs)\u001b[0m\n\u001b[1;32m    624\u001b[0m                 \u001b[0minputs\u001b[0m\u001b[0;34m=\u001b[0m\u001b[0minputs\u001b[0m\u001b[0;34m,\u001b[0m\u001b[0;34m\u001b[0m\u001b[0;34m\u001b[0m\u001b[0m\n\u001b[1;32m    625\u001b[0m             )\n\u001b[0;32m--> 626\u001b[0;31m         torch.autograd.backward(\n\u001b[0m\u001b[1;32m    627\u001b[0m             \u001b[0mself\u001b[0m\u001b[0;34m,\u001b[0m \u001b[0mgradient\u001b[0m\u001b[0;34m,\u001b[0m \u001b[0mretain_graph\u001b[0m\u001b[0;34m,\u001b[0m \u001b[0mcreate_graph\u001b[0m\u001b[0;34m,\u001b[0m \u001b[0minputs\u001b[0m\u001b[0;34m=\u001b[0m\u001b[0minputs\u001b[0m\u001b[0;34m\u001b[0m\u001b[0;34m\u001b[0m\u001b[0m\n\u001b[1;32m    628\u001b[0m         )\n",
            "\u001b[0;32m/usr/local/lib/python3.11/dist-packages/torch/autograd/__init__.py\u001b[0m in \u001b[0;36mbackward\u001b[0;34m(tensors, grad_tensors, retain_graph, create_graph, grad_variables, inputs)\u001b[0m\n\u001b[1;32m    345\u001b[0m     \u001b[0;31m# some Python versions print out the first line of a multi-line function\u001b[0m\u001b[0;34m\u001b[0m\u001b[0;34m\u001b[0m\u001b[0m\n\u001b[1;32m    346\u001b[0m     \u001b[0;31m# calls in the traceback and some print out the last line\u001b[0m\u001b[0;34m\u001b[0m\u001b[0;34m\u001b[0m\u001b[0m\n\u001b[0;32m--> 347\u001b[0;31m     _engine_run_backward(\n\u001b[0m\u001b[1;32m    348\u001b[0m         \u001b[0mtensors\u001b[0m\u001b[0;34m,\u001b[0m\u001b[0;34m\u001b[0m\u001b[0;34m\u001b[0m\u001b[0m\n\u001b[1;32m    349\u001b[0m         \u001b[0mgrad_tensors_\u001b[0m\u001b[0;34m,\u001b[0m\u001b[0;34m\u001b[0m\u001b[0;34m\u001b[0m\u001b[0m\n",
            "\u001b[0;32m/usr/local/lib/python3.11/dist-packages/torch/autograd/graph.py\u001b[0m in \u001b[0;36m_engine_run_backward\u001b[0;34m(t_outputs, *args, **kwargs)\u001b[0m\n\u001b[1;32m    821\u001b[0m         \u001b[0munregister_hooks\u001b[0m \u001b[0;34m=\u001b[0m \u001b[0m_register_logging_hooks_on_whole_graph\u001b[0m\u001b[0;34m(\u001b[0m\u001b[0mt_outputs\u001b[0m\u001b[0;34m)\u001b[0m\u001b[0;34m\u001b[0m\u001b[0;34m\u001b[0m\u001b[0m\n\u001b[1;32m    822\u001b[0m     \u001b[0;32mtry\u001b[0m\u001b[0;34m:\u001b[0m\u001b[0;34m\u001b[0m\u001b[0;34m\u001b[0m\u001b[0m\n\u001b[0;32m--> 823\u001b[0;31m         return Variable._execution_engine.run_backward(  # Calls into the C++ engine to run the backward pass\n\u001b[0m\u001b[1;32m    824\u001b[0m             \u001b[0mt_outputs\u001b[0m\u001b[0;34m,\u001b[0m \u001b[0;34m*\u001b[0m\u001b[0margs\u001b[0m\u001b[0;34m,\u001b[0m \u001b[0;34m**\u001b[0m\u001b[0mkwargs\u001b[0m\u001b[0;34m\u001b[0m\u001b[0;34m\u001b[0m\u001b[0m\n\u001b[1;32m    825\u001b[0m         )  # Calls into the C++ engine to run the backward pass\n",
            "\u001b[0;31mKeyboardInterrupt\u001b[0m: "
          ]
        }
      ]
    },
    {
      "cell_type": "code",
      "source": [
        "model.eval()\n",
        "correct_test, total_test = 0, 0\n",
        "\n",
        "with torch.no_grad():\n",
        "    for home_seq, away_seq, static_feats, labels in test_loader:\n",
        "        home_seq, away_seq, static_feats, labels = home_seq.to(device), away_seq.to(device), static_feats.to(device), labels.to(device)\n",
        "        outputs = model(home_seq, away_seq, static_feats).squeeze()\n",
        "        predicted = (outputs > 0.5).float()\n",
        "        correct_test += (predicted == labels).sum().item()\n",
        "        total_test += labels.size(0)\n",
        "\n",
        "test_accuracy = correct_test / total_test\n",
        "\n",
        "# Plot training accuracy\n",
        "plt.figure(figsize=(12, 5))\n",
        "plt.plot(range(1, len(train_acc_history) + 1), train_acc_history, label=\"Train Accuracy\", color='blue')\n",
        "plt.scatter([len(train_acc_history)], [test_accuracy], color='red', label=f\"Test Accuracy: {test_accuracy:.2%}\")\n",
        "plt.xlabel(\"Epochs\")\n",
        "plt.ylabel(\"Accuracy\")\n",
        "plt.title(\"Training Accuracy with Early Stopping\")\n",
        "plt.legend()\n",
        "plt.grid()\n",
        "plt.show()"
      ],
      "metadata": {
        "id": "_d0XXgKMWvhA"
      },
      "execution_count": null,
      "outputs": []
    },
    {
      "cell_type": "markdown",
      "source": [
        "I was hoping that after this the accuracy would magically go up but this did not happen. It seems that the training accuracy and the testing accuracy both went down but the spread is closer.\n",
        "\n",
        "Now i have the data saved in drive and I will use it to explore some hyper paramaters in hopes of moving accuracy towards 70%. Based on resources I have seen online, >65% accuracy would mean that I am capturing insights that the betting markets are not fully understanding. If I can achieve this I would be very happy. With an accuracy between 60% and 65% would be very good but would be similar to expert picks. This would be very good and would be a \"money maker\"."
      ],
      "metadata": {
        "id": "vgjRJugyZlgu"
      }
    },
    {
      "cell_type": "code",
      "source": [
        "# Paths where your pickled files are stored\n",
        "import pickle\n",
        "import os\n",
        "\n",
        "sequences_path = '/content/drive/MyDrive/sequences.pkl'\n",
        "targets_path = '/content/drive/MyDrive/targets.pkl'\n",
        "\n",
        "# Load sequences\n",
        "with open(sequences_path, 'rb') as file:\n",
        "    sequences = pickle.load(file)\n",
        "\n",
        "# Load targets\n",
        "with open(targets_path, 'rb') as file:\n",
        "    targets = pickle.load(file)\n"
      ],
      "metadata": {
        "id": "WPUDixMDkYM0"
      },
      "execution_count": null,
      "outputs": []
    },
    {
      "cell_type": "code",
      "source": [
        "import itertools\n",
        "\n",
        "hidden_sizes = [16, 32, 64]\n",
        "dropout_rates = [0.3, 0.5, 0.7]\n",
        "weight_decays = [1e-4, 5e-4, 1e-3]\n",
        "\n",
        "best_accuracy = 0\n",
        "best_params = {}\n",
        "results = []\n",
        "\n",
        "# Loop over hyperparameter combinations\n",
        "for hidden_size, dropout, weight_decay in itertools.product(hidden_sizes, dropout_rates, weight_decays):\n",
        "    print(f\"Training with hidden_size={hidden_size}, dropout={dropout}, weight_decay={weight_decay}\")\n",
        "\n",
        "    # Model definition\n",
        "    model = NBAHybridModel(input_size, static_size, hidden_size, num_layers, dropout).to(device)\n",
        "    criterion = nn.BCELoss()\n",
        "    optimizer = optim.Adam(model.parameters(), lr=0.001, weight_decay=weight_decay)\n",
        "\n",
        "    epochs = 100\n",
        "    model.train()\n",
        "\n",
        "    for epoch in range(epochs):\n",
        "        total_loss = 0\n",
        "        for home_seq, away_seq, static_feats, labels in train_loader:\n",
        "            home_seq, away_seq, static_feats, labels = home_seq.to(device), away_seq.to(device), static_feats.to(device), labels.to(device)\n",
        "            optimizer.zero_grad()\n",
        "            outputs = model(home_seq, away_seq, static_feats).squeeze()\n",
        "            loss = criterion(outputs, labels)\n",
        "            loss.backward()\n",
        "            optimizer.step()\n",
        "            total_loss += loss.item()\n",
        "\n",
        "    # Evaluate on test data\n",
        "    model.eval()\n",
        "    correct_test, total_test = 0, 0\n",
        "    with torch.no_grad():\n",
        "        for home_seq, away_seq, static_feats, labels in test_loader:\n",
        "            home_seq, away_seq, static_feats, labels = home_seq.to(device), away_seq.to(device), static_feats.to(device), labels.to(device)\n",
        "            outputs = model(home_seq, away_seq, static_feats).squeeze()\n",
        "            predicted = (outputs > 0.5).float()\n",
        "            correct_test += (predicted == labels).sum().item()\n",
        "            total_test += labels.size(0)\n",
        "\n",
        "    accuracy = correct_test / total_test\n",
        "    results.append((hidden_size, dropout, weight_decay, accuracy))\n",
        "    print(f\"Accuracy: {accuracy:.4f}\")\n",
        "\n",
        "    if accuracy > best_accuracy:\n",
        "        best_accuracy = accuracy\n",
        "        best_params = {'hidden_size': hidden_size, 'dropout': dropout, 'weight_decay': weight_decay}\n",
        "\n",
        "# Display results\n",
        "results_df = pd.DataFrame(results, columns=['hidden_size', 'dropout', 'weight_decay', 'accuracy'])\n",
        "print(\"\\nBest Hyperparameters:\", best_params)\n",
        "\n",
        "# Plot results\n",
        "fig, ax = plt.subplots(figsize=(10, 6))\n",
        "for key, grp in results_df.groupby(['hidden_size']):\n",
        "    ax = grp.plot(ax=ax, kind='line', x='dropout', y='accuracy', label=f\"Hidden Size {key}\", marker='o')\n",
        "\n",
        "plt.title(\"Hyperparameter Exploration Results\")\n",
        "plt.xlabel(\"Dropout Rate\")\n",
        "plt.ylabel(\"Accuracy\")\n",
        "plt.grid()\n",
        "plt.legend()\n",
        "plt.show()\n"
      ],
      "metadata": {
        "colab": {
          "base_uri": "https://localhost:8080/"
        },
        "id": "tJstHOOIZ-Ly",
        "outputId": "852f51be-63c0-4c23-a9ed-ac96b23eccbb"
      },
      "execution_count": null,
      "outputs": [
        {
          "output_type": "stream",
          "name": "stdout",
          "text": [
            "Training with hidden_size=16, dropout=0.3, weight_decay=0.0001\n"
          ]
        },
        {
          "output_type": "stream",
          "name": "stderr",
          "text": [
            "/usr/local/lib/python3.11/dist-packages/torch/nn/modules/rnn.py:123: UserWarning: dropout option adds dropout after all but last recurrent layer, so non-zero dropout expects num_layers greater than 1, but got dropout=0.3 and num_layers=1\n",
            "  warnings.warn(\n"
          ]
        },
        {
          "output_type": "stream",
          "name": "stdout",
          "text": [
            "Accuracy: 0.5884\n",
            "Training with hidden_size=16, dropout=0.3, weight_decay=0.0005\n",
            "Accuracy: 0.5909\n",
            "Training with hidden_size=16, dropout=0.3, weight_decay=0.001\n",
            "Accuracy: 0.5873\n",
            "Training with hidden_size=16, dropout=0.5, weight_decay=0.0001\n"
          ]
        },
        {
          "output_type": "stream",
          "name": "stderr",
          "text": [
            "/usr/local/lib/python3.11/dist-packages/torch/nn/modules/rnn.py:123: UserWarning: dropout option adds dropout after all but last recurrent layer, so non-zero dropout expects num_layers greater than 1, but got dropout=0.5 and num_layers=1\n",
            "  warnings.warn(\n"
          ]
        },
        {
          "output_type": "stream",
          "name": "stdout",
          "text": [
            "Accuracy: 0.5841\n",
            "Training with hidden_size=16, dropout=0.5, weight_decay=0.0005\n",
            "Accuracy: 0.5826\n",
            "Training with hidden_size=16, dropout=0.5, weight_decay=0.001\n",
            "Accuracy: 0.5894\n",
            "Training with hidden_size=16, dropout=0.7, weight_decay=0.0001\n"
          ]
        },
        {
          "output_type": "stream",
          "name": "stderr",
          "text": [
            "/usr/local/lib/python3.11/dist-packages/torch/nn/modules/rnn.py:123: UserWarning: dropout option adds dropout after all but last recurrent layer, so non-zero dropout expects num_layers greater than 1, but got dropout=0.7 and num_layers=1\n",
            "  warnings.warn(\n"
          ]
        },
        {
          "output_type": "stream",
          "name": "stdout",
          "text": [
            "Accuracy: 0.5873\n",
            "Training with hidden_size=16, dropout=0.7, weight_decay=0.0005\n",
            "Accuracy: 0.5903\n",
            "Training with hidden_size=16, dropout=0.7, weight_decay=0.001\n",
            "Accuracy: 0.5871\n",
            "Training with hidden_size=32, dropout=0.3, weight_decay=0.0001\n",
            "Accuracy: 0.5802\n",
            "Training with hidden_size=32, dropout=0.3, weight_decay=0.0005\n",
            "Accuracy: 0.5839\n",
            "Training with hidden_size=32, dropout=0.3, weight_decay=0.001\n",
            "Accuracy: 0.5877\n",
            "Training with hidden_size=32, dropout=0.5, weight_decay=0.0001\n",
            "Accuracy: 0.5877\n",
            "Training with hidden_size=32, dropout=0.5, weight_decay=0.0005\n",
            "Accuracy: 0.5864\n",
            "Training with hidden_size=32, dropout=0.5, weight_decay=0.001\n"
          ]
        }
      ]
    },
    {
      "cell_type": "code",
      "source": [
        "import itertools\n",
        "\n",
        "hidden_sizes = [64]\n",
        "dropout_rates = [0.3, 0.5, 0.7]\n",
        "weight_decays = [1e-4, 5e-4, 1e-3]\n",
        "\n",
        "best_accuracy = 0\n",
        "best_params = {}\n",
        "results = []\n",
        "\n",
        "# Loop over hyperparameter combinations\n",
        "for hidden_size, dropout, weight_decay in itertools.product(hidden_sizes, dropout_rates, weight_decays):\n",
        "    print(f\"Training with hidden_size={hidden_size}, dropout={dropout}, weight_decay={weight_decay}\")\n",
        "\n",
        "    # Model definition\n",
        "    model = NBAHybridModel(input_size, static_size, hidden_size, num_layers, dropout).to(device)\n",
        "    criterion = nn.BCELoss()\n",
        "    optimizer = optim.Adam(model.parameters(), lr=0.001, weight_decay=weight_decay)\n",
        "\n",
        "    epochs = 100\n",
        "    model.train()\n",
        "\n",
        "    for epoch in range(epochs):\n",
        "        total_loss = 0\n",
        "        for home_seq, away_seq, static_feats, labels in train_loader:\n",
        "            home_seq, away_seq, static_feats, labels = home_seq.to(device), away_seq.to(device), static_feats.to(device), labels.to(device)\n",
        "            optimizer.zero_grad()\n",
        "            outputs = model(home_seq, away_seq, static_feats).squeeze()\n",
        "            loss = criterion(outputs, labels)\n",
        "            loss.backward()\n",
        "            optimizer.step()\n",
        "            total_loss += loss.item()\n",
        "\n",
        "    # Evaluate on test data\n",
        "    model.eval()\n",
        "    correct_test, total_test = 0, 0\n",
        "    with torch.no_grad():\n",
        "        for home_seq, away_seq, static_feats, labels in test_loader:\n",
        "            home_seq, away_seq, static_feats, labels = home_seq.to(device), away_seq.to(device), static_feats.to(device), labels.to(device)\n",
        "            outputs = model(home_seq, away_seq, static_feats).squeeze()\n",
        "            predicted = (outputs > 0.5).float()\n",
        "            correct_test += (predicted == labels).sum().item()\n",
        "            total_test += labels.size(0)\n",
        "\n",
        "    accuracy = correct_test / total_test\n",
        "    results.append((hidden_size, dropout, weight_decay, accuracy))\n",
        "    print(f\"Accuracy: {accuracy:.4f}\")\n",
        "\n",
        "    if accuracy > best_accuracy:\n",
        "        best_accuracy = accuracy\n",
        "        best_params = {'hidden_size': hidden_size, 'dropout': dropout, 'weight_decay': weight_decay}\n",
        "\n",
        "# Display results\n",
        "results_df = pd.DataFrame(results, columns=['hidden_size', 'dropout', 'weight_decay', 'accuracy'])\n",
        "print(\"\\nBest Hyperparameters:\", best_params)\n",
        "\n",
        "# Plot results\n",
        "fig, ax = plt.subplots(figsize=(10, 6))\n",
        "for key, grp in results_df.groupby(['hidden_size']):\n",
        "    ax = grp.plot(ax=ax, kind='line', x='dropout', y='accuracy', label=f\"Hidden Size {key}\", marker='o')\n",
        "\n",
        "plt.title(\"Hyperparameter Exploration Results\")\n",
        "plt.xlabel(\"Dropout Rate\")\n",
        "plt.ylabel(\"Accuracy\")\n",
        "plt.grid()\n",
        "plt.legend()\n",
        "plt.show()\n"
      ],
      "metadata": {
        "colab": {
          "base_uri": "https://localhost:8080/",
          "height": 217
        },
        "id": "-vKf-CQQGDVb",
        "outputId": "4ceea75a-f0c4-487c-8be6-2ed7ace24c37"
      },
      "execution_count": null,
      "outputs": [
        {
          "output_type": "stream",
          "name": "stdout",
          "text": [
            "Training with hidden_size=64, dropout=0.3, weight_decay=0.0001\n"
          ]
        },
        {
          "output_type": "error",
          "ename": "NameError",
          "evalue": "name 'NBAHybridModel' is not defined",
          "traceback": [
            "\u001b[0;31m---------------------------------------------------------------------------\u001b[0m",
            "\u001b[0;31mNameError\u001b[0m                                 Traceback (most recent call last)",
            "\u001b[0;32m<ipython-input-5-631590f7a7c9>\u001b[0m in \u001b[0;36m<cell line: 0>\u001b[0;34m()\u001b[0m\n\u001b[1;32m     14\u001b[0m \u001b[0;34m\u001b[0m\u001b[0m\n\u001b[1;32m     15\u001b[0m     \u001b[0;31m# Model definition\u001b[0m\u001b[0;34m\u001b[0m\u001b[0;34m\u001b[0m\u001b[0m\n\u001b[0;32m---> 16\u001b[0;31m     \u001b[0mmodel\u001b[0m \u001b[0;34m=\u001b[0m \u001b[0mNBAHybridModel\u001b[0m\u001b[0;34m(\u001b[0m\u001b[0minput_size\u001b[0m\u001b[0;34m,\u001b[0m \u001b[0mstatic_size\u001b[0m\u001b[0;34m,\u001b[0m \u001b[0mhidden_size\u001b[0m\u001b[0;34m,\u001b[0m \u001b[0mnum_layers\u001b[0m\u001b[0;34m,\u001b[0m \u001b[0mdropout\u001b[0m\u001b[0;34m)\u001b[0m\u001b[0;34m.\u001b[0m\u001b[0mto\u001b[0m\u001b[0;34m(\u001b[0m\u001b[0mdevice\u001b[0m\u001b[0;34m)\u001b[0m\u001b[0;34m\u001b[0m\u001b[0;34m\u001b[0m\u001b[0m\n\u001b[0m\u001b[1;32m     17\u001b[0m     \u001b[0mcriterion\u001b[0m \u001b[0;34m=\u001b[0m \u001b[0mnn\u001b[0m\u001b[0;34m.\u001b[0m\u001b[0mBCELoss\u001b[0m\u001b[0;34m(\u001b[0m\u001b[0;34m)\u001b[0m\u001b[0;34m\u001b[0m\u001b[0;34m\u001b[0m\u001b[0m\n\u001b[1;32m     18\u001b[0m     \u001b[0moptimizer\u001b[0m \u001b[0;34m=\u001b[0m \u001b[0moptim\u001b[0m\u001b[0;34m.\u001b[0m\u001b[0mAdam\u001b[0m\u001b[0;34m(\u001b[0m\u001b[0mmodel\u001b[0m\u001b[0;34m.\u001b[0m\u001b[0mparameters\u001b[0m\u001b[0;34m(\u001b[0m\u001b[0;34m)\u001b[0m\u001b[0;34m,\u001b[0m \u001b[0mlr\u001b[0m\u001b[0;34m=\u001b[0m\u001b[0;36m0.001\u001b[0m\u001b[0;34m,\u001b[0m \u001b[0mweight_decay\u001b[0m\u001b[0;34m=\u001b[0m\u001b[0mweight_decay\u001b[0m\u001b[0;34m)\u001b[0m\u001b[0;34m\u001b[0m\u001b[0;34m\u001b[0m\u001b[0m\n",
            "\u001b[0;31mNameError\u001b[0m: name 'NBAHybridModel' is not defined"
          ]
        }
      ]
    }
  ]
}